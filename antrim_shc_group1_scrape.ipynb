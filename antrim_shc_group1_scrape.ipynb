{
 "cells": [
  {
   "cell_type": "code",
   "execution_count": 1,
   "metadata": {},
   "outputs": [],
   "source": [
    "#Load relevant libraries\n",
    "from bs4 import BeautifulSoup\n",
    "import requests\n",
    "import pandas as pd"
   ]
  },
  {
   "cell_type": "code",
   "execution_count": 2,
   "metadata": {},
   "outputs": [],
   "source": [
    "url = \"https://antrim.gaa.ie/fixtures/shc-group-1-1\" # Url of webpage we want to work with "
   ]
  },
  {
   "cell_type": "code",
   "execution_count": 3,
   "metadata": {},
   "outputs": [],
   "source": [
    "page = requests.get(url)"
   ]
  },
  {
   "cell_type": "code",
   "execution_count": 4,
   "metadata": {},
   "outputs": [],
   "source": [
    "soup = BeautifulSoup(page.content, \"html.parser\") #parse"
   ]
  },
  {
   "cell_type": "code",
   "execution_count": 5,
   "metadata": {},
   "outputs": [
    {
     "data": {
      "text/plain": [
       "[<div class=\"fixdate\">Date</div>,\n",
       " <div class=\"fixdate\">Tue 24 Aug 2021</div>,\n",
       " <div class=\"fixdate\">Tue 24 Aug 2021</div>,\n",
       " <div class=\"fixdate\">Sat 28 Aug 2021</div>,\n",
       " <div class=\"fixdate\">Sat 28 Aug 2021</div>,\n",
       " <div class=\"fixdate\">Sun 05 Sep 2021</div>,\n",
       " <div class=\"fixdate\">Sun 05 Sep 2021</div>]"
      ]
     },
     "execution_count": 5,
     "metadata": {},
     "output_type": "execute_result"
    }
   ],
   "source": [
    "soup.find_all('div', class_='fixdate') # find all classess which = fixdate , to return dates. We can do this for each of the data headings we wish to scrape as per below"
   ]
  },
  {
   "cell_type": "code",
   "execution_count": 6,
   "metadata": {},
   "outputs": [
    {
     "data": {
      "text/plain": [
       "[<div class=\"fixteamhome\">Home Team</div>,\n",
       " <div class=\"fixteamhome\">O`Donovan Rossa</div>,\n",
       " <div class=\"fixteamhome\">Naomh Éanna</div>,\n",
       " <div class=\"fixteamhome\">Naomh Éanna</div>,\n",
       " <div class=\"fixteamhome\">Mac Uílín CLG</div>,\n",
       " <div class=\"fixteamhome\">Na Seamróga</div>,\n",
       " <div class=\"fixteamhome\">Mac Uílín CLG</div>]"
      ]
     },
     "execution_count": 6,
     "metadata": {},
     "output_type": "execute_result"
    }
   ],
   "source": [
    "soup.find_all('div', class_='fixteamhome')"
   ]
  },
  {
   "cell_type": "code",
   "execution_count": 7,
   "metadata": {},
   "outputs": [
    {
     "data": {
      "text/plain": [
       "[<div class=\"fixteamaway\">Away Team</div>,\n",
       " <div class=\"fixteamaway\">Mac Uílín CLG</div>,\n",
       " <div class=\"fixteamaway\">Na Seamróga</div>,\n",
       " <div class=\"fixteamaway\">O`Donovan Rossa</div>,\n",
       " <div class=\"fixteamaway\">Na Seamróga</div>,\n",
       " <div class=\"fixteamaway\">O`Donovan Rossa</div>,\n",
       " <div class=\"fixteamaway\">Naomh Éanna</div>]"
      ]
     },
     "execution_count": 7,
     "metadata": {},
     "output_type": "execute_result"
    }
   ],
   "source": [
    "soup.find_all('div', class_='fixteamaway')"
   ]
  },
  {
   "cell_type": "code",
   "execution_count": 8,
   "metadata": {},
   "outputs": [
    {
     "data": {
      "text/plain": [
       "[<div class=\"fixscorehome\"> </div>,\n",
       " <div class=\"fixscorehome\">0-26</div>,\n",
       " <div class=\"fixscorehome\">0-17</div>,\n",
       " <div class=\"fixscorehome\">3-11</div>,\n",
       " <div class=\"fixscorehome\">2-20</div>,\n",
       " <div class=\"fixscorehome\">1-14</div>,\n",
       " <div class=\"fixscorehome\">0-19</div>]"
      ]
     },
     "execution_count": 8,
     "metadata": {},
     "output_type": "execute_result"
    }
   ],
   "source": [
    "soup.find_all('div', class_='fixscorehome')"
   ]
  },
  {
   "cell_type": "code",
   "execution_count": 9,
   "metadata": {},
   "outputs": [
    {
     "data": {
      "text/plain": [
       "[<div class=\"fixscoreaway\"> </div>,\n",
       " <div class=\"fixscoreaway\">2-14</div>,\n",
       " <div class=\"fixscoreaway\">2-25</div>,\n",
       " <div class=\"fixscoreaway\">4-24</div>,\n",
       " <div class=\"fixscoreaway\">1-27</div>,\n",
       " <div class=\"fixscoreaway\">0-21</div>,\n",
       " <div class=\"fixscoreaway\">3-18</div>]"
      ]
     },
     "execution_count": 9,
     "metadata": {},
     "output_type": "execute_result"
    }
   ],
   "source": [
    "soup.find_all('div', class_='fixscoreaway')"
   ]
  },
  {
   "cell_type": "code",
   "execution_count": 10,
   "metadata": {},
   "outputs": [
    {
     "data": {
      "text/plain": [
       "[<div class=\"fixvenue\">Venue</div>,\n",
       " <div class=\"fixvenue\">Pairc Rossa</div>,\n",
       " <div class=\"fixvenue\">Páirc Éanna</div>,\n",
       " <div class=\"fixvenue\">Páirc Éanna</div>,\n",
       " <div class=\"fixvenue\">Pairc MacUílín</div>,\n",
       " <div class=\"fixvenue\">Loughgiel Shamrocks</div>,\n",
       " <div class=\"fixvenue\">Pairc MacUílín</div>]"
      ]
     },
     "execution_count": 10,
     "metadata": {},
     "output_type": "execute_result"
    }
   ],
   "source": [
    "soup.find_all('div', class_='fixvenue')"
   ]
  },
  {
   "cell_type": "code",
   "execution_count": 11,
   "metadata": {},
   "outputs": [
    {
     "data": {
      "text/plain": [
       "[<div class=\"fixcompname\"><a href=\"/fixtures/?compID=162319&amp;leagueTable=y\">Bathshack SHC group 1</a></div>,\n",
       " <div class=\"fixcompname\"><a href=\"/fixtures/?compID=162319&amp;leagueTable=y\">Bathshack SHC group 1</a></div>,\n",
       " <div class=\"fixcompname\"><a href=\"/fixtures/?compID=162319&amp;leagueTable=y\">Bathshack SHC group 1</a></div>]"
      ]
     },
     "execution_count": 11,
     "metadata": {},
     "output_type": "execute_result"
    }
   ],
   "source": [
    "soup.find_all('div', class_='fixcompname')"
   ]
  },
  {
   "cell_type": "code",
   "execution_count": 12,
   "metadata": {},
   "outputs": [
    {
     "name": "stdout",
     "output_type": "stream",
     "text": [
      "['Date', 'Tue 24 Aug 2021', 'Tue 24 Aug 2021', 'Sat 28 Aug 2021', 'Sat 28 Aug 2021', 'Sun 05 Sep 2021', 'Sun 05 Sep 2021']\n",
      "['Tue 24 Aug 2021', 'Tue 24 Aug 2021', 'Sat 28 Aug 2021', 'Sat 28 Aug 2021', 'Sun 05 Sep 2021', 'Sun 05 Sep 2021']\n"
     ]
    }
   ],
   "source": [
    "dates =[] # create empty list called dates\n",
    "for gamedates in soup.find_all('div', class_='fixdate'):\n",
    "    dates.append(gamedates.text) # loop through each of the date elements & add each text part into our list 'dates'\n",
    "print(dates)\n",
    "remove_first_element = dates.pop(0) #remove first element which is the heading on the webpage, we don't need this included as we want to write our own column names\n",
    "print(dates)\n"
   ]
  },
  {
   "cell_type": "code",
   "execution_count": 13,
   "metadata": {},
   "outputs": [
    {
     "name": "stdout",
     "output_type": "stream",
     "text": [
      "['Home Team', 'O`Donovan Rossa', 'Naomh Éanna', 'Naomh Éanna', 'Mac Uílín CLG', 'Na Seamróga', 'Mac Uílín CLG']\n",
      "['O`Donovan Rossa', 'Naomh Éanna', 'Naomh Éanna', 'Mac Uílín CLG', 'Na Seamróga', 'Mac Uílín CLG']\n"
     ]
    }
   ],
   "source": [
    "HT=[] # list of home teams\n",
    "for home_teams in soup.find_all('div', class_='fixteamhome'):\n",
    "    HT.append(home_teams.text)\n",
    "print(HT)\n",
    "remove_first_element = HT.pop(0)\n",
    "print(HT)\n"
   ]
  },
  {
   "cell_type": "code",
   "execution_count": 14,
   "metadata": {},
   "outputs": [
    {
     "name": "stdout",
     "output_type": "stream",
     "text": [
      "['\\xa0', '0-26', '0-17', '3-11', '2-20', '1-14', '0-19']\n",
      "['0-26', '0-17', '3-11', '2-20', '1-14', '0-19']\n"
     ]
    }
   ],
   "source": [
    "HS=[] # list of home scores\n",
    "for home_score in soup.find_all('div', class_='fixscorehome'):\n",
    "    HS.append(home_score.text)\n",
    "print(HS)\n",
    "remove_first_element = HS.pop(0)\n",
    "print(HS)"
   ]
  },
  {
   "cell_type": "code",
   "execution_count": 15,
   "metadata": {},
   "outputs": [
    {
     "name": "stdout",
     "output_type": "stream",
     "text": [
      "['Away Team', 'Mac Uílín CLG', 'Na Seamróga', 'O`Donovan Rossa', 'Na Seamróga', 'O`Donovan Rossa', 'Naomh Éanna']\n",
      "['Mac Uílín CLG', 'Na Seamróga', 'O`Donovan Rossa', 'Na Seamróga', 'O`Donovan Rossa', 'Naomh Éanna']\n"
     ]
    }
   ],
   "source": [
    "AT=[] # list of away teams\n",
    "for away_teams in soup.find_all('div', class_='fixteamaway'):\n",
    "    AT.append(away_teams.text)\n",
    "print(AT)\n",
    "remove_first_element = AT.pop(0)\n",
    "print(AT)"
   ]
  },
  {
   "cell_type": "code",
   "execution_count": 16,
   "metadata": {},
   "outputs": [
    {
     "name": "stdout",
     "output_type": "stream",
     "text": [
      "['\\xa0', '2-14', '2-25', '4-24', '1-27', '0-21', '3-18']\n",
      "['2-14', '2-25', '4-24', '1-27', '0-21', '3-18']\n"
     ]
    }
   ],
   "source": [
    "AS=[] # list of away scores\n",
    "for away_score in soup.find_all('div', class_='fixscoreaway'):\n",
    "    AS.append(away_score.text)\n",
    "print(AS)\n",
    "remove_first_element = AS.pop(0)\n",
    "print(AS)"
   ]
  },
  {
   "cell_type": "code",
   "execution_count": 17,
   "metadata": {},
   "outputs": [
    {
     "name": "stdout",
     "output_type": "stream",
     "text": [
      "['Venue', 'Pairc Rossa', 'Páirc Éanna', 'Páirc Éanna', 'Pairc MacUílín', 'Loughgiel Shamrocks', 'Pairc MacUílín']\n",
      "['Pairc Rossa', 'Páirc Éanna', 'Páirc Éanna', 'Pairc MacUílín', 'Loughgiel Shamrocks', 'Pairc MacUílín']\n"
     ]
    }
   ],
   "source": [
    "Venues=[] # list of venues\n",
    "for vens in soup.find_all('div', class_='fixvenue'):\n",
    "    Venues.append(vens.text)\n",
    "print(Venues)\n",
    "remove_first_element = Venues.pop(0)\n",
    "print(Venues)"
   ]
  },
  {
   "cell_type": "code",
   "execution_count": 18,
   "metadata": {},
   "outputs": [
    {
     "name": "stdout",
     "output_type": "stream",
     "text": [
      "['Bathshack SHC group 1', 'Bathshack SHC group 1', 'Bathshack SHC group 1']\n",
      "['Bathshack SHC group 1', 'Bathshack SHC group 1', 'Bathshack SHC group 1', 'Bathshack SHC group 1', 'Bathshack SHC group 1', 'Bathshack SHC group 1']\n"
     ]
    }
   ],
   "source": [
    "stage=[]\n",
    "for comp_stage in soup.find_all('div', class_='fixcompname'):\n",
    "    stage.append(comp_stage.text)\n",
    "print (stage)\n",
    "stage = stage + stage\n",
    "print (stage)\n",
    "#What we want here is to have the competition stage noted against each fixture/result i.e. 6 rows of Bathshack SHC Group 1\n",
    "#in our DF\n"
   ]
  },
  {
   "cell_type": "code",
   "execution_count": 19,
   "metadata": {},
   "outputs": [
    {
     "data": {
      "text/html": [
       "<div>\n",
       "<style scoped>\n",
       "    .dataframe tbody tr th:only-of-type {\n",
       "        vertical-align: middle;\n",
       "    }\n",
       "\n",
       "    .dataframe tbody tr th {\n",
       "        vertical-align: top;\n",
       "    }\n",
       "\n",
       "    .dataframe thead th {\n",
       "        text-align: right;\n",
       "    }\n",
       "</style>\n",
       "<table border=\"1\" class=\"dataframe\">\n",
       "  <thead>\n",
       "    <tr style=\"text-align: right;\">\n",
       "      <th></th>\n",
       "      <th>Date</th>\n",
       "      <th>Home Team</th>\n",
       "      <th>Home Score</th>\n",
       "      <th>Away Team</th>\n",
       "      <th>Away Score</th>\n",
       "      <th>Venue</th>\n",
       "      <th>Stage</th>\n",
       "    </tr>\n",
       "  </thead>\n",
       "  <tbody>\n",
       "    <tr>\n",
       "      <th>0</th>\n",
       "      <td>Tue 24 Aug 2021</td>\n",
       "      <td>O`Donovan Rossa</td>\n",
       "      <td>0-26</td>\n",
       "      <td>Mac Uílín CLG</td>\n",
       "      <td>2-14</td>\n",
       "      <td>Pairc Rossa</td>\n",
       "      <td>Bathshack SHC group 1</td>\n",
       "    </tr>\n",
       "    <tr>\n",
       "      <th>1</th>\n",
       "      <td>Tue 24 Aug 2021</td>\n",
       "      <td>Naomh Éanna</td>\n",
       "      <td>0-17</td>\n",
       "      <td>Na Seamróga</td>\n",
       "      <td>2-25</td>\n",
       "      <td>Páirc Éanna</td>\n",
       "      <td>Bathshack SHC group 1</td>\n",
       "    </tr>\n",
       "    <tr>\n",
       "      <th>2</th>\n",
       "      <td>Sat 28 Aug 2021</td>\n",
       "      <td>Naomh Éanna</td>\n",
       "      <td>3-11</td>\n",
       "      <td>O`Donovan Rossa</td>\n",
       "      <td>4-24</td>\n",
       "      <td>Páirc Éanna</td>\n",
       "      <td>Bathshack SHC group 1</td>\n",
       "    </tr>\n",
       "    <tr>\n",
       "      <th>3</th>\n",
       "      <td>Sat 28 Aug 2021</td>\n",
       "      <td>Mac Uílín CLG</td>\n",
       "      <td>2-20</td>\n",
       "      <td>Na Seamróga</td>\n",
       "      <td>1-27</td>\n",
       "      <td>Pairc MacUílín</td>\n",
       "      <td>Bathshack SHC group 1</td>\n",
       "    </tr>\n",
       "    <tr>\n",
       "      <th>4</th>\n",
       "      <td>Sun 05 Sep 2021</td>\n",
       "      <td>Na Seamróga</td>\n",
       "      <td>1-14</td>\n",
       "      <td>O`Donovan Rossa</td>\n",
       "      <td>0-21</td>\n",
       "      <td>Loughgiel Shamrocks</td>\n",
       "      <td>Bathshack SHC group 1</td>\n",
       "    </tr>\n",
       "    <tr>\n",
       "      <th>5</th>\n",
       "      <td>Sun 05 Sep 2021</td>\n",
       "      <td>Mac Uílín CLG</td>\n",
       "      <td>0-19</td>\n",
       "      <td>Naomh Éanna</td>\n",
       "      <td>3-18</td>\n",
       "      <td>Pairc MacUílín</td>\n",
       "      <td>Bathshack SHC group 1</td>\n",
       "    </tr>\n",
       "  </tbody>\n",
       "</table>\n",
       "</div>"
      ],
      "text/plain": [
       "              Date        Home Team Home Score        Away Team Away Score  \\\n",
       "0  Tue 24 Aug 2021  O`Donovan Rossa       0-26    Mac Uílín CLG       2-14   \n",
       "1  Tue 24 Aug 2021      Naomh Éanna       0-17      Na Seamróga       2-25   \n",
       "2  Sat 28 Aug 2021      Naomh Éanna       3-11  O`Donovan Rossa       4-24   \n",
       "3  Sat 28 Aug 2021    Mac Uílín CLG       2-20      Na Seamróga       1-27   \n",
       "4  Sun 05 Sep 2021      Na Seamróga       1-14  O`Donovan Rossa       0-21   \n",
       "5  Sun 05 Sep 2021    Mac Uílín CLG       0-19      Naomh Éanna       3-18   \n",
       "\n",
       "                 Venue                  Stage  \n",
       "0          Pairc Rossa  Bathshack SHC group 1  \n",
       "1          Páirc Éanna  Bathshack SHC group 1  \n",
       "2          Páirc Éanna  Bathshack SHC group 1  \n",
       "3       Pairc MacUílín  Bathshack SHC group 1  \n",
       "4  Loughgiel Shamrocks  Bathshack SHC group 1  \n",
       "5       Pairc MacUílín  Bathshack SHC group 1  "
      ]
     },
     "metadata": {},
     "output_type": "display_data"
    }
   ],
   "source": [
    "data = [dates, HT, HS,AT,AS,Venues, stage] # list of lists stored in a variable data\n",
    "antrim_shc_df = pd.DataFrame(data) # create a pandas dataframe \n",
    "antrim_shc_df = antrim_shc_df.transpose() # transpose dataframe into the format we want\n",
    "antrim_shc_df.columns = ['Date', 'Home Team', 'Home Score','Away Team','Away Score','Venue', 'Stage'] #Rename Columns\n",
    "display(antrim_shc_df)\n",
    "\n",
    "\n"
   ]
  },
  {
   "cell_type": "code",
   "execution_count": null,
   "metadata": {},
   "outputs": [],
   "source": []
  },
  {
   "cell_type": "code",
   "execution_count": null,
   "metadata": {},
   "outputs": [],
   "source": []
  }
 ],
 "metadata": {
  "kernelspec": {
   "display_name": "Python 3",
   "language": "python",
   "name": "python3"
  },
  "language_info": {
   "codemirror_mode": {
    "name": "ipython",
    "version": 3
   },
   "file_extension": ".py",
   "mimetype": "text/x-python",
   "name": "python",
   "nbconvert_exporter": "python",
   "pygments_lexer": "ipython3",
   "version": "3.7.3"
  }
 },
 "nbformat": 4,
 "nbformat_minor": 2
}
