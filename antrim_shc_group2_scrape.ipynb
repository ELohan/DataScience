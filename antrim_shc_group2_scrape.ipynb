{
 "cells": [
  {
   "cell_type": "code",
   "execution_count": 1,
   "metadata": {},
   "outputs": [],
   "source": [
    "#Load relevant libraries\n",
    "from bs4 import BeautifulSoup\n",
    "import requests\n",
    "import pandas as pd"
   ]
  },
  {
   "cell_type": "code",
   "execution_count": 2,
   "metadata": {},
   "outputs": [],
   "source": [
    "url = \"https://antrim.gaa.ie/fixtures/shc-group-2-1\" # Url of webpage we want to work with "
   ]
  },
  {
   "cell_type": "code",
   "execution_count": 3,
   "metadata": {},
   "outputs": [],
   "source": [
    "page = requests.get(url)"
   ]
  },
  {
   "cell_type": "code",
   "execution_count": 4,
   "metadata": {},
   "outputs": [],
   "source": [
    "soup = BeautifulSoup(page.content, \"html.parser\")"
   ]
  },
  {
   "cell_type": "code",
   "execution_count": 5,
   "metadata": {},
   "outputs": [
    {
     "data": {
      "text/plain": [
       "[<div class=\"fixdate\">Date</div>,\n",
       " <div class=\"fixdate\">Tue 24 Aug 2021</div>,\n",
       " <div class=\"fixdate\">Tue 24 Aug 2021</div>,\n",
       " <div class=\"fixdate\">Sat 28 Aug 2021</div>,\n",
       " <div class=\"fixdate\">Sat 28 Aug 2021</div>,\n",
       " <div class=\"fixdate\">Sun 05 Sep 2021</div>,\n",
       " <div class=\"fixdate\">Sun 05 Sep 2021</div>]"
      ]
     },
     "execution_count": 5,
     "metadata": {},
     "output_type": "execute_result"
    }
   ],
   "source": [
    "soup.find_all('div', class_='fixdate') # find all classess which = fixdate , to return dates. We can do this for each of the data headings we wish to scrape as per below"
   ]
  },
  {
   "cell_type": "code",
   "execution_count": 6,
   "metadata": {},
   "outputs": [
    {
     "data": {
      "text/plain": [
       "[<div class=\"fixteamhome\">Home Team</div>,\n",
       " <div class=\"fixteamhome\">Cuchullains Dun Lathaí</div>,\n",
       " <div class=\"fixteamhome\">Tír na nÓg Randalstown</div>,\n",
       " <div class=\"fixteamhome\">Ruairí Óg</div>,\n",
       " <div class=\"fixteamhome\">Tír na nÓg Randalstown</div>,\n",
       " <div class=\"fixteamhome\">Naomh Eoin</div>,\n",
       " <div class=\"fixteamhome\">Ruairí Óg</div>]"
      ]
     },
     "execution_count": 6,
     "metadata": {},
     "output_type": "execute_result"
    }
   ],
   "source": [
    "soup.find_all('div', class_='fixteamhome')"
   ]
  },
  {
   "cell_type": "code",
   "execution_count": 7,
   "metadata": {},
   "outputs": [
    {
     "data": {
      "text/plain": [
       "[<div class=\"fixteamaway\">Away Team</div>,\n",
       " <div class=\"fixteamaway\">Ruairí Óg</div>,\n",
       " <div class=\"fixteamaway\">Naomh Eoin</div>,\n",
       " <div class=\"fixteamaway\">Naomh Eoin</div>,\n",
       " <div class=\"fixteamaway\">Cuchullains Dun Lathaí</div>,\n",
       " <div class=\"fixteamaway\">Cuchullains Dun Lathaí</div>,\n",
       " <div class=\"fixteamaway\">Tír na nÓg Randalstown</div>]"
      ]
     },
     "execution_count": 7,
     "metadata": {},
     "output_type": "execute_result"
    }
   ],
   "source": [
    "soup.find_all('div', class_='fixteamaway')"
   ]
  },
  {
   "cell_type": "code",
   "execution_count": 8,
   "metadata": {},
   "outputs": [
    {
     "data": {
      "text/plain": [
       "[<div class=\"fixscorehome\"> </div>,\n",
       " <div class=\"fixscorehome\">1-18</div>,\n",
       " <div class=\"fixscorehome\">3-15</div>,\n",
       " <div class=\"fixscorehome\">2-23</div>,\n",
       " <div class=\"fixscorehome\">0-7</div>,\n",
       " <div class=\"fixscorehome\">1-26</div>,\n",
       " <div class=\"fixscorehome\">6-18</div>]"
      ]
     },
     "execution_count": 8,
     "metadata": {},
     "output_type": "execute_result"
    }
   ],
   "source": [
    "soup.find_all('div', class_='fixscorehome')"
   ]
  },
  {
   "cell_type": "code",
   "execution_count": 9,
   "metadata": {},
   "outputs": [
    {
     "data": {
      "text/plain": [
       "[<div class=\"fixscoreaway\"> </div>,\n",
       " <div class=\"fixscoreaway\">0-21</div>,\n",
       " <div class=\"fixscoreaway\">3-23</div>,\n",
       " <div class=\"fixscoreaway\">1-16</div>,\n",
       " <div class=\"fixscoreaway\">4-38</div>,\n",
       " <div class=\"fixscoreaway\">2-30</div>,\n",
       " <div class=\"fixscoreaway\">1-14</div>]"
      ]
     },
     "execution_count": 9,
     "metadata": {},
     "output_type": "execute_result"
    }
   ],
   "source": [
    "soup.find_all('div', class_='fixscoreaway')"
   ]
  },
  {
   "cell_type": "code",
   "execution_count": 10,
   "metadata": {},
   "outputs": [
    {
     "data": {
      "text/plain": [
       "[<div class=\"fixvenue\">Venue</div>,\n",
       " <div class=\"fixvenue\">Cuchullians-Dunloy</div>,\n",
       " <div class=\"fixvenue\">Tir Na nOg Randalstown</div>,\n",
       " <div class=\"fixvenue\">Ruairí Óg</div>,\n",
       " <div class=\"fixvenue\">Tir Na nOg Randalstown</div>,\n",
       " <div class=\"fixvenue\">Corrigan Park</div>,\n",
       " <div class=\"fixvenue\">Ruairí Óg</div>]"
      ]
     },
     "execution_count": 10,
     "metadata": {},
     "output_type": "execute_result"
    }
   ],
   "source": [
    "soup.find_all('div', class_='fixvenue')"
   ]
  },
  {
   "cell_type": "code",
   "execution_count": 11,
   "metadata": {},
   "outputs": [
    {
     "data": {
      "text/plain": [
       "[<div class=\"fixcompname\"><a href=\"/fixtures/?compID=162321&amp;leagueTable=y\">Bathshack SHC group 2</a></div>,\n",
       " <div class=\"fixcompname\"><a href=\"/fixtures/?compID=162321&amp;leagueTable=y\">Bathshack SHC group 2</a></div>,\n",
       " <div class=\"fixcompname\"><a href=\"/fixtures/?compID=162321&amp;leagueTable=y\">Bathshack SHC group 2</a></div>]"
      ]
     },
     "execution_count": 11,
     "metadata": {},
     "output_type": "execute_result"
    }
   ],
   "source": [
    "soup.find_all('div', class_='fixcompname')"
   ]
  },
  {
   "cell_type": "code",
   "execution_count": 12,
   "metadata": {},
   "outputs": [
    {
     "name": "stdout",
     "output_type": "stream",
     "text": [
      "['Date', 'Tue 24 Aug 2021', 'Tue 24 Aug 2021', 'Sat 28 Aug 2021', 'Sat 28 Aug 2021', 'Sun 05 Sep 2021', 'Sun 05 Sep 2021']\n",
      "['Tue 24 Aug 2021', 'Tue 24 Aug 2021', 'Sat 28 Aug 2021', 'Sat 28 Aug 2021', 'Sun 05 Sep 2021', 'Sun 05 Sep 2021']\n"
     ]
    }
   ],
   "source": [
    "dates =[] # create empty list called dates\n",
    "for gamedates in soup.find_all('div', class_='fixdate'):\n",
    "    dates.append(gamedates.text) # loop through each of the date elements & add each text part into our list 'dates'\n",
    "print(dates)\n",
    "remove_first_element = dates.pop(0)\n",
    "print(dates)\n"
   ]
  },
  {
   "cell_type": "code",
   "execution_count": 13,
   "metadata": {},
   "outputs": [
    {
     "name": "stdout",
     "output_type": "stream",
     "text": [
      "['Home Team', 'Cuchullains Dun Lathaí', 'Tír na nÓg Randalstown', 'Ruairí Óg', 'Tír na nÓg Randalstown', 'Naomh Eoin', 'Ruairí Óg']\n",
      "['Cuchullains Dun Lathaí', 'Tír na nÓg Randalstown', 'Ruairí Óg', 'Tír na nÓg Randalstown', 'Naomh Eoin', 'Ruairí Óg']\n"
     ]
    }
   ],
   "source": [
    "HT=[]\n",
    "for home_teams in soup.find_all('div', class_='fixteamhome'):\n",
    "    HT.append(home_teams.text)\n",
    "print(HT)\n",
    "remove_first_element = HT.pop(0)\n",
    "print(HT)\n"
   ]
  },
  {
   "cell_type": "code",
   "execution_count": 14,
   "metadata": {},
   "outputs": [
    {
     "name": "stdout",
     "output_type": "stream",
     "text": [
      "['\\xa0', '1-18', '3-15', '2-23', '0-7', '1-26', '6-18']\n",
      "['1-18', '3-15', '2-23', '0-7', '1-26', '6-18']\n"
     ]
    }
   ],
   "source": [
    "HS=[]\n",
    "for home_score in soup.find_all('div', class_='fixscorehome'):\n",
    "    HS.append(home_score.text)\n",
    "print(HS)\n",
    "remove_first_element = HS.pop(0)\n",
    "print(HS)"
   ]
  },
  {
   "cell_type": "code",
   "execution_count": 15,
   "metadata": {},
   "outputs": [
    {
     "name": "stdout",
     "output_type": "stream",
     "text": [
      "['Away Team', 'Ruairí Óg', 'Naomh Eoin', 'Naomh Eoin', 'Cuchullains Dun Lathaí', 'Cuchullains Dun Lathaí', 'Tír na nÓg Randalstown']\n",
      "['Ruairí Óg', 'Naomh Eoin', 'Naomh Eoin', 'Cuchullains Dun Lathaí', 'Cuchullains Dun Lathaí', 'Tír na nÓg Randalstown']\n"
     ]
    }
   ],
   "source": [
    "AT=[]\n",
    "for away_teams in soup.find_all('div', class_='fixteamaway'):\n",
    "    AT.append(away_teams.text)\n",
    "print(AT)\n",
    "remove_first_element = AT.pop(0)\n",
    "print(AT)"
   ]
  },
  {
   "cell_type": "code",
   "execution_count": 16,
   "metadata": {},
   "outputs": [
    {
     "name": "stdout",
     "output_type": "stream",
     "text": [
      "['\\xa0', '0-21', '3-23', '1-16', '4-38', '2-30', '1-14']\n",
      "['0-21', '3-23', '1-16', '4-38', '2-30', '1-14']\n"
     ]
    }
   ],
   "source": [
    "AS=[]\n",
    "for away_score in soup.find_all('div', class_='fixscoreaway'):\n",
    "    AS.append(away_score.text)\n",
    "print(AS)\n",
    "remove_first_element = AS.pop(0)\n",
    "print(AS)"
   ]
  },
  {
   "cell_type": "code",
   "execution_count": 17,
   "metadata": {},
   "outputs": [
    {
     "name": "stdout",
     "output_type": "stream",
     "text": [
      "['Venue', 'Cuchullians-Dunloy', 'Tir Na nOg Randalstown', 'Ruairí Óg', 'Tir Na nOg Randalstown', 'Corrigan Park', 'Ruairí Óg']\n",
      "['Cuchullians-Dunloy', 'Tir Na nOg Randalstown', 'Ruairí Óg', 'Tir Na nOg Randalstown', 'Corrigan Park', 'Ruairí Óg']\n"
     ]
    }
   ],
   "source": [
    "Venues=[]\n",
    "for vens in soup.find_all('div', class_='fixvenue'):\n",
    "    Venues.append(vens.text)\n",
    "print(Venues)\n",
    "remove_first_element = Venues.pop(0)\n",
    "print(Venues)"
   ]
  },
  {
   "cell_type": "code",
   "execution_count": 18,
   "metadata": {},
   "outputs": [
    {
     "name": "stdout",
     "output_type": "stream",
     "text": [
      "['Bathshack SHC group 2', 'Bathshack SHC group 2', 'Bathshack SHC group 2']\n",
      "['Bathshack SHC group 2', 'Bathshack SHC group 2', 'Bathshack SHC group 2', 'Bathshack SHC group 2', 'Bathshack SHC group 2', 'Bathshack SHC group 2']\n"
     ]
    }
   ],
   "source": [
    "stage=[]\n",
    "for comp_stage in soup.find_all('div', class_='fixcompname'):\n",
    "    stage.append(comp_stage.text)\n",
    "print (stage)\n",
    "stage = stage + stage\n",
    "print (stage)\n",
    "#What we want here is to have the competition stage noted against each fixture/result i.e. 6 rows of Bathshack SHC Group 1\n",
    "#\n"
   ]
  },
  {
   "cell_type": "code",
   "execution_count": 19,
   "metadata": {},
   "outputs": [
    {
     "data": {
      "text/html": [
       "<div>\n",
       "<style scoped>\n",
       "    .dataframe tbody tr th:only-of-type {\n",
       "        vertical-align: middle;\n",
       "    }\n",
       "\n",
       "    .dataframe tbody tr th {\n",
       "        vertical-align: top;\n",
       "    }\n",
       "\n",
       "    .dataframe thead th {\n",
       "        text-align: right;\n",
       "    }\n",
       "</style>\n",
       "<table border=\"1\" class=\"dataframe\">\n",
       "  <thead>\n",
       "    <tr style=\"text-align: right;\">\n",
       "      <th></th>\n",
       "      <th>Date</th>\n",
       "      <th>Home Team</th>\n",
       "      <th>Home Score</th>\n",
       "      <th>Away Team</th>\n",
       "      <th>Away Score</th>\n",
       "      <th>Venue</th>\n",
       "      <th>Stage</th>\n",
       "    </tr>\n",
       "  </thead>\n",
       "  <tbody>\n",
       "    <tr>\n",
       "      <th>0</th>\n",
       "      <td>Tue 24 Aug 2021</td>\n",
       "      <td>Cuchullains Dun Lathaí</td>\n",
       "      <td>1-18</td>\n",
       "      <td>Ruairí Óg</td>\n",
       "      <td>0-21</td>\n",
       "      <td>Cuchullians-Dunloy</td>\n",
       "      <td>Bathshack SHC group 2</td>\n",
       "    </tr>\n",
       "    <tr>\n",
       "      <th>1</th>\n",
       "      <td>Tue 24 Aug 2021</td>\n",
       "      <td>Tír na nÓg Randalstown</td>\n",
       "      <td>3-15</td>\n",
       "      <td>Naomh Eoin</td>\n",
       "      <td>3-23</td>\n",
       "      <td>Tir Na nOg Randalstown</td>\n",
       "      <td>Bathshack SHC group 2</td>\n",
       "    </tr>\n",
       "    <tr>\n",
       "      <th>2</th>\n",
       "      <td>Sat 28 Aug 2021</td>\n",
       "      <td>Ruairí Óg</td>\n",
       "      <td>2-23</td>\n",
       "      <td>Naomh Eoin</td>\n",
       "      <td>1-16</td>\n",
       "      <td>Ruairí Óg</td>\n",
       "      <td>Bathshack SHC group 2</td>\n",
       "    </tr>\n",
       "    <tr>\n",
       "      <th>3</th>\n",
       "      <td>Sat 28 Aug 2021</td>\n",
       "      <td>Tír na nÓg Randalstown</td>\n",
       "      <td>0-7</td>\n",
       "      <td>Cuchullains Dun Lathaí</td>\n",
       "      <td>4-38</td>\n",
       "      <td>Tir Na nOg Randalstown</td>\n",
       "      <td>Bathshack SHC group 2</td>\n",
       "    </tr>\n",
       "    <tr>\n",
       "      <th>4</th>\n",
       "      <td>Sun 05 Sep 2021</td>\n",
       "      <td>Naomh Eoin</td>\n",
       "      <td>1-26</td>\n",
       "      <td>Cuchullains Dun Lathaí</td>\n",
       "      <td>2-30</td>\n",
       "      <td>Corrigan Park</td>\n",
       "      <td>Bathshack SHC group 2</td>\n",
       "    </tr>\n",
       "    <tr>\n",
       "      <th>5</th>\n",
       "      <td>Sun 05 Sep 2021</td>\n",
       "      <td>Ruairí Óg</td>\n",
       "      <td>6-18</td>\n",
       "      <td>Tír na nÓg Randalstown</td>\n",
       "      <td>1-14</td>\n",
       "      <td>Ruairí Óg</td>\n",
       "      <td>Bathshack SHC group 2</td>\n",
       "    </tr>\n",
       "  </tbody>\n",
       "</table>\n",
       "</div>"
      ],
      "text/plain": [
       "              Date               Home Team Home Score               Away Team  \\\n",
       "0  Tue 24 Aug 2021  Cuchullains Dun Lathaí       1-18               Ruairí Óg   \n",
       "1  Tue 24 Aug 2021  Tír na nÓg Randalstown       3-15              Naomh Eoin   \n",
       "2  Sat 28 Aug 2021               Ruairí Óg       2-23              Naomh Eoin   \n",
       "3  Sat 28 Aug 2021  Tír na nÓg Randalstown        0-7  Cuchullains Dun Lathaí   \n",
       "4  Sun 05 Sep 2021              Naomh Eoin       1-26  Cuchullains Dun Lathaí   \n",
       "5  Sun 05 Sep 2021               Ruairí Óg       6-18  Tír na nÓg Randalstown   \n",
       "\n",
       "  Away Score                   Venue                  Stage  \n",
       "0       0-21      Cuchullians-Dunloy  Bathshack SHC group 2  \n",
       "1       3-23  Tir Na nOg Randalstown  Bathshack SHC group 2  \n",
       "2       1-16               Ruairí Óg  Bathshack SHC group 2  \n",
       "3       4-38  Tir Na nOg Randalstown  Bathshack SHC group 2  \n",
       "4       2-30           Corrigan Park  Bathshack SHC group 2  \n",
       "5       1-14               Ruairí Óg  Bathshack SHC group 2  "
      ]
     },
     "metadata": {},
     "output_type": "display_data"
    }
   ],
   "source": [
    "data = [dates, HT, HS,AT,AS,Venues, stage]\n",
    "antrim_shc_df = pd.DataFrame(data)\n",
    "antrim_shc_df = antrim_shc_df.transpose()\n",
    "antrim_shc_df.columns = ['Date', 'Home Team', 'Home Score','Away Team','Away Score','Venue', 'Stage'] #Rename Columns\n",
    "display(antrim_shc_df)\n",
    "\n",
    "\n",
    "#Remove headings scraped from the webpage - as we are assigning our own column names"
   ]
  },
  {
   "cell_type": "code",
   "execution_count": 269,
   "metadata": {},
   "outputs": [
    {
     "name": "stdout",
     "output_type": "stream",
     "text": [
      "              Date        Home Team Home Score        Away Team Away Score  \\\n",
      "0             Date        Home Team                   Away Team              \n",
      "1  Tue 24 Aug 2021  O`Donovan Rossa       0-26    Mac Uílín CLG       2-14   \n",
      "2  Tue 24 Aug 2021      Naomh Éanna       0-17      Na Seamróga       2-25   \n",
      "3  Sat 28 Aug 2021      Naomh Éanna       3-11  O`Donovan Rossa       4-24   \n",
      "4  Sat 28 Aug 2021    Mac Uílín CLG       2-20      Na Seamróga       1-27   \n",
      "5  Sun 05 Sep 2021      Na Seamróga       1-14  O`Donovan Rossa       0-21   \n",
      "6  Sun 05 Sep 2021    Mac Uílín CLG       0-19      Naomh Éanna       3-18   \n",
      "\n",
      "                 Venue                  Stage  \n",
      "0                Venue  Bathshack SHC group 1  \n",
      "1          Pairc Rossa  Bathshack SHC group 1  \n",
      "2          Páirc Éanna  Bathshack SHC group 1  \n",
      "3          Páirc Éanna                   None  \n",
      "4       Pairc MacUílín                   None  \n",
      "5  Loughgiel Shamrocks                   None  \n",
      "6       Pairc MacUílín                   None  \n"
     ]
    }
   ],
   "source": []
  },
  {
   "cell_type": "code",
   "execution_count": 270,
   "metadata": {},
   "outputs": [],
   "source": [
    "#we want to add some extra columns here for goals & points. This will allow us perform analysis on score differences, goal scoring & point scoring\n"
   ]
  },
  {
   "cell_type": "code",
   "execution_count": 252,
   "metadata": {},
   "outputs": [
    {
     "name": "stdout",
     "output_type": "stream",
     "text": [
      "Tue 24 Aug 2021\n",
      "['Tue 24 Aug 2021', 'Tue 24 Aug 2021', 'Sat 28 Aug 2021', 'Sat 28 Aug 2021', 'Sun 05 Sep 2021', 'Sun 05 Sep 2021']\n"
     ]
    }
   ],
   "source": []
  },
  {
   "cell_type": "code",
   "execution_count": null,
   "metadata": {},
   "outputs": [],
   "source": []
  },
  {
   "cell_type": "code",
   "execution_count": null,
   "metadata": {},
   "outputs": [],
   "source": []
  }
 ],
 "metadata": {
  "kernelspec": {
   "display_name": "Python 3",
   "language": "python",
   "name": "python3"
  },
  "language_info": {
   "codemirror_mode": {
    "name": "ipython",
    "version": 3
   },
   "file_extension": ".py",
   "mimetype": "text/x-python",
   "name": "python",
   "nbconvert_exporter": "python",
   "pygments_lexer": "ipython3",
   "version": "3.7.3"
  }
 },
 "nbformat": 4,
 "nbformat_minor": 2
}
