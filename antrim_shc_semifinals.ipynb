{
 "cells": [
  {
   "cell_type": "code",
   "execution_count": 38,
   "metadata": {},
   "outputs": [],
   "source": [
    "#Load relevant libraries\n",
    "from bs4 import BeautifulSoup\n",
    "import requests\n",
    "import pandas as pd"
   ]
  },
  {
   "cell_type": "code",
   "execution_count": 39,
   "metadata": {},
   "outputs": [],
   "source": [
    "url = \"https://antrim.gaa.ie/fixtures/shc-semi-finals-1\" # Url of webpage we want to work with "
   ]
  },
  {
   "cell_type": "code",
   "execution_count": 40,
   "metadata": {},
   "outputs": [],
   "source": [
    "page = requests.get(url)"
   ]
  },
  {
   "cell_type": "code",
   "execution_count": 41,
   "metadata": {},
   "outputs": [],
   "source": [
    "soup = BeautifulSoup(page.content, \"html.parser\")"
   ]
  },
  {
   "cell_type": "code",
   "execution_count": 42,
   "metadata": {},
   "outputs": [
    {
     "data": {
      "text/plain": [
       "[<div class=\"fixdate\">Date</div>,\n",
       " <div class=\"fixdate\">Sun 26 Sep 2021</div>,\n",
       " <div class=\"fixdate\">Sun 26 Sep 2021</div>]"
      ]
     },
     "execution_count": 42,
     "metadata": {},
     "output_type": "execute_result"
    }
   ],
   "source": [
    "soup.find_all('div', class_='fixdate') # find all classess which = fixdate , to return dates. We can do this for each of the data headings we wish to scrape as per below"
   ]
  },
  {
   "cell_type": "code",
   "execution_count": 43,
   "metadata": {},
   "outputs": [
    {
     "data": {
      "text/plain": [
       "[<div class=\"fixteamhome\">Home Team</div>,\n",
       " <div class=\"fixteamhome\">O`Donovan Rossa</div>,\n",
       " <div class=\"fixteamhome\">Cuchullains Dun Lathaí</div>]"
      ]
     },
     "execution_count": 43,
     "metadata": {},
     "output_type": "execute_result"
    }
   ],
   "source": [
    "soup.find_all('div', class_='fixteamhome')"
   ]
  },
  {
   "cell_type": "code",
   "execution_count": 44,
   "metadata": {},
   "outputs": [
    {
     "data": {
      "text/plain": [
       "[<div class=\"fixteamaway\">Away Team</div>,\n",
       " <div class=\"fixteamaway\">Ruairí Óg</div>,\n",
       " <div class=\"fixteamaway\">Naomh Eoin</div>]"
      ]
     },
     "execution_count": 44,
     "metadata": {},
     "output_type": "execute_result"
    }
   ],
   "source": [
    "soup.find_all('div', class_='fixteamaway')"
   ]
  },
  {
   "cell_type": "code",
   "execution_count": 45,
   "metadata": {},
   "outputs": [
    {
     "data": {
      "text/plain": [
       "[<div class=\"fixscorehome\"> </div>,\n",
       " <div class=\"fixscorehome\">4-18</div>,\n",
       " <div class=\"fixscorehome\">1-19</div>]"
      ]
     },
     "execution_count": 45,
     "metadata": {},
     "output_type": "execute_result"
    }
   ],
   "source": [
    "soup.find_all('div', class_='fixscorehome')"
   ]
  },
  {
   "cell_type": "code",
   "execution_count": 46,
   "metadata": {},
   "outputs": [
    {
     "data": {
      "text/plain": [
       "[<div class=\"fixscoreaway\"> </div>,\n",
       " <div class=\"fixscoreaway\">3-20</div>,\n",
       " <div class=\"fixscoreaway\">0-13</div>]"
      ]
     },
     "execution_count": 46,
     "metadata": {},
     "output_type": "execute_result"
    }
   ],
   "source": [
    "soup.find_all('div', class_='fixscoreaway')"
   ]
  },
  {
   "cell_type": "code",
   "execution_count": 47,
   "metadata": {},
   "outputs": [
    {
     "data": {
      "text/plain": [
       "[<div class=\"fixvenue\">Venue</div>,\n",
       " <div class=\"fixvenue\">Dunsilly Pitch 1</div>,\n",
       " <div class=\"fixvenue\">Dunsilly Pitch 1</div>]"
      ]
     },
     "execution_count": 47,
     "metadata": {},
     "output_type": "execute_result"
    }
   ],
   "source": [
    "soup.find_all('div', class_='fixvenue')"
   ]
  },
  {
   "cell_type": "code",
   "execution_count": 48,
   "metadata": {},
   "outputs": [
    {
     "data": {
      "text/plain": [
       "[<div class=\"fixcompname\"><a href=\"/fixtures/?compID=165323&amp;leagueTable=y\">Bathshack SHC semi Finals</a></div>]"
      ]
     },
     "execution_count": 48,
     "metadata": {},
     "output_type": "execute_result"
    }
   ],
   "source": [
    "soup.find_all('div', class_='fixcompname')"
   ]
  },
  {
   "cell_type": "code",
   "execution_count": 49,
   "metadata": {},
   "outputs": [
    {
     "name": "stdout",
     "output_type": "stream",
     "text": [
      "['Date', 'Sun 26 Sep 2021', 'Sun 26 Sep 2021']\n",
      "['Sun 26 Sep 2021', 'Sun 26 Sep 2021']\n"
     ]
    }
   ],
   "source": [
    "dates =[] # create empty list called dates\n",
    "for gamedates in soup.find_all('div', class_='fixdate'):\n",
    "    dates.append(gamedates.text) # loop through each of the date elements & add each text part into our list 'dates'\n",
    "print(dates)\n",
    "remove_first_element = dates.pop(0)\n",
    "print(dates)\n"
   ]
  },
  {
   "cell_type": "code",
   "execution_count": 50,
   "metadata": {},
   "outputs": [
    {
     "name": "stdout",
     "output_type": "stream",
     "text": [
      "['Home Team', 'O`Donovan Rossa', 'Cuchullains Dun Lathaí']\n",
      "['O`Donovan Rossa', 'Cuchullains Dun Lathaí']\n"
     ]
    }
   ],
   "source": [
    "HT=[]\n",
    "for home_teams in soup.find_all('div', class_='fixteamhome'):\n",
    "    HT.append(home_teams.text)\n",
    "print(HT)\n",
    "remove_first_element = HT.pop(0)\n",
    "print(HT)\n"
   ]
  },
  {
   "cell_type": "code",
   "execution_count": 51,
   "metadata": {},
   "outputs": [
    {
     "name": "stdout",
     "output_type": "stream",
     "text": [
      "['\\xa0', '4-18', '1-19']\n",
      "['4-18', '1-19']\n"
     ]
    }
   ],
   "source": [
    "HS=[]\n",
    "for home_score in soup.find_all('div', class_='fixscorehome'):\n",
    "    HS.append(home_score.text)\n",
    "print(HS)\n",
    "remove_first_element = HS.pop(0)\n",
    "print(HS)"
   ]
  },
  {
   "cell_type": "code",
   "execution_count": 52,
   "metadata": {},
   "outputs": [
    {
     "name": "stdout",
     "output_type": "stream",
     "text": [
      "['Away Team', 'Ruairí Óg', 'Naomh Eoin']\n",
      "['Ruairí Óg', 'Naomh Eoin']\n"
     ]
    }
   ],
   "source": [
    "AT=[]\n",
    "for away_teams in soup.find_all('div', class_='fixteamaway'):\n",
    "    AT.append(away_teams.text)\n",
    "print(AT)\n",
    "remove_first_element = AT.pop(0)\n",
    "print(AT)"
   ]
  },
  {
   "cell_type": "code",
   "execution_count": 53,
   "metadata": {},
   "outputs": [
    {
     "name": "stdout",
     "output_type": "stream",
     "text": [
      "['\\xa0', '3-20', '0-13']\n",
      "['3-20', '0-13']\n"
     ]
    }
   ],
   "source": [
    "AS=[]\n",
    "for away_score in soup.find_all('div', class_='fixscoreaway'):\n",
    "    AS.append(away_score.text)\n",
    "print(AS)\n",
    "remove_first_element = AS.pop(0)\n",
    "print(AS)"
   ]
  },
  {
   "cell_type": "code",
   "execution_count": 54,
   "metadata": {},
   "outputs": [
    {
     "name": "stdout",
     "output_type": "stream",
     "text": [
      "['Venue', 'Dunsilly Pitch 1', 'Dunsilly Pitch 1']\n",
      "['Dunsilly Pitch 1', 'Dunsilly Pitch 1']\n"
     ]
    }
   ],
   "source": [
    "Venues=[]\n",
    "for vens in soup.find_all('div', class_='fixvenue'):\n",
    "    Venues.append(vens.text)\n",
    "print(Venues)\n",
    "remove_first_element = Venues.pop(0)\n",
    "print(Venues)"
   ]
  },
  {
   "cell_type": "code",
   "execution_count": 55,
   "metadata": {},
   "outputs": [
    {
     "name": "stdout",
     "output_type": "stream",
     "text": [
      "['Bathshack SHC semi Finals']\n",
      "['Bathshack SHC semi Finals', 'Bathshack SHC semi Finals']\n"
     ]
    }
   ],
   "source": [
    "stage=[]\n",
    "for comp_stage in soup.find_all('div', class_='fixcompname'):\n",
    "    stage.append(comp_stage.text)\n",
    "print (stage)\n",
    "stage = stage + stage\n",
    "print (stage)\n",
    "#What we want here is to have the competition stage noted against each fixture/result i.e. 6 rows of Bathshack SHC Group 1\n",
    "#\n"
   ]
  },
  {
   "cell_type": "code",
   "execution_count": 56,
   "metadata": {},
   "outputs": [
    {
     "data": {
      "text/html": [
       "<div>\n",
       "<style scoped>\n",
       "    .dataframe tbody tr th:only-of-type {\n",
       "        vertical-align: middle;\n",
       "    }\n",
       "\n",
       "    .dataframe tbody tr th {\n",
       "        vertical-align: top;\n",
       "    }\n",
       "\n",
       "    .dataframe thead th {\n",
       "        text-align: right;\n",
       "    }\n",
       "</style>\n",
       "<table border=\"1\" class=\"dataframe\">\n",
       "  <thead>\n",
       "    <tr style=\"text-align: right;\">\n",
       "      <th></th>\n",
       "      <th>Date</th>\n",
       "      <th>Home Team</th>\n",
       "      <th>Home Score</th>\n",
       "      <th>Away Team</th>\n",
       "      <th>Away Score</th>\n",
       "      <th>Venue</th>\n",
       "      <th>Stage</th>\n",
       "    </tr>\n",
       "  </thead>\n",
       "  <tbody>\n",
       "    <tr>\n",
       "      <th>0</th>\n",
       "      <td>Sun 26 Sep 2021</td>\n",
       "      <td>O`Donovan Rossa</td>\n",
       "      <td>4-18</td>\n",
       "      <td>Ruairí Óg</td>\n",
       "      <td>3-20</td>\n",
       "      <td>Dunsilly Pitch 1</td>\n",
       "      <td>Bathshack SHC semi Finals</td>\n",
       "    </tr>\n",
       "    <tr>\n",
       "      <th>1</th>\n",
       "      <td>Sun 26 Sep 2021</td>\n",
       "      <td>Cuchullains Dun Lathaí</td>\n",
       "      <td>1-19</td>\n",
       "      <td>Naomh Eoin</td>\n",
       "      <td>0-13</td>\n",
       "      <td>Dunsilly Pitch 1</td>\n",
       "      <td>Bathshack SHC semi Finals</td>\n",
       "    </tr>\n",
       "  </tbody>\n",
       "</table>\n",
       "</div>"
      ],
      "text/plain": [
       "              Date               Home Team Home Score   Away Team Away Score  \\\n",
       "0  Sun 26 Sep 2021         O`Donovan Rossa       4-18   Ruairí Óg       3-20   \n",
       "1  Sun 26 Sep 2021  Cuchullains Dun Lathaí       1-19  Naomh Eoin       0-13   \n",
       "\n",
       "              Venue                      Stage  \n",
       "0  Dunsilly Pitch 1  Bathshack SHC semi Finals  \n",
       "1  Dunsilly Pitch 1  Bathshack SHC semi Finals  "
      ]
     },
     "metadata": {},
     "output_type": "display_data"
    }
   ],
   "source": [
    "data = [dates, HT, HS,AT,AS,Venues, stage]\n",
    "antrim_shc_df = pd.DataFrame(data)\n",
    "antrim_shc_df = antrim_shc_df.transpose()\n",
    "antrim_shc_df.columns = ['Date', 'Home Team', 'Home Score','Away Team','Away Score','Venue', 'Stage'] #Rename Columns\n",
    "display(antrim_shc_df)\n",
    "\n",
    "\n",
    "#Remove headings scraped from the webpage - as we are assigning our own column names"
   ]
  },
  {
   "cell_type": "code",
   "execution_count": null,
   "metadata": {},
   "outputs": [],
   "source": []
  },
  {
   "cell_type": "code",
   "execution_count": 270,
   "metadata": {},
   "outputs": [],
   "source": [
    "#we want to add some extra columns here for goals & points. This will allow us perform analysis on score differences, goal scoring & point scoring\n"
   ]
  },
  {
   "cell_type": "code",
   "execution_count": 252,
   "metadata": {},
   "outputs": [
    {
     "name": "stdout",
     "output_type": "stream",
     "text": [
      "Tue 24 Aug 2021\n",
      "['Tue 24 Aug 2021', 'Tue 24 Aug 2021', 'Sat 28 Aug 2021', 'Sat 28 Aug 2021', 'Sun 05 Sep 2021', 'Sun 05 Sep 2021']\n"
     ]
    }
   ],
   "source": []
  },
  {
   "cell_type": "code",
   "execution_count": null,
   "metadata": {},
   "outputs": [],
   "source": []
  },
  {
   "cell_type": "code",
   "execution_count": null,
   "metadata": {},
   "outputs": [],
   "source": []
  }
 ],
 "metadata": {
  "kernelspec": {
   "display_name": "Python 3",
   "language": "python",
   "name": "python3"
  },
  "language_info": {
   "codemirror_mode": {
    "name": "ipython",
    "version": 3
   },
   "file_extension": ".py",
   "mimetype": "text/x-python",
   "name": "python",
   "nbconvert_exporter": "python",
   "pygments_lexer": "ipython3",
   "version": "3.7.3"
  }
 },
 "nbformat": 4,
 "nbformat_minor": 2
}
