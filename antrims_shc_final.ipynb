{
 "cells": [
  {
   "cell_type": "code",
   "execution_count": 172,
   "metadata": {},
   "outputs": [],
   "source": [
    "#Load relevant libraries\n",
    "from bs4 import BeautifulSoup\n",
    "import requests\n",
    "import pandas as pd"
   ]
  },
  {
   "cell_type": "code",
   "execution_count": 173,
   "metadata": {},
   "outputs": [],
   "source": [
    "url = \"https://antrim.gaa.ie/fixtures/senior-hurling-championship\" # Url of webpage we want to work with "
   ]
  },
  {
   "cell_type": "code",
   "execution_count": 174,
   "metadata": {},
   "outputs": [],
   "source": [
    "page = requests.get(url)"
   ]
  },
  {
   "cell_type": "code",
   "execution_count": 175,
   "metadata": {},
   "outputs": [],
   "source": [
    "soup = BeautifulSoup(page.content, \"html.parser\")"
   ]
  },
  {
   "cell_type": "code",
   "execution_count": 176,
   "metadata": {},
   "outputs": [
    {
     "data": {
      "text/plain": [
       "[<div class=\"fixdate\">Date</div>, <div class=\"fixdate\">Sun 10 Oct 2021</div>]"
      ]
     },
     "execution_count": 176,
     "metadata": {},
     "output_type": "execute_result"
    }
   ],
   "source": [
    "soup.find_all('div', class_='fixdate') # find all classess which = fixdate , to return dates. We can do this for each of the data headings we wish to scrape as per below"
   ]
  },
  {
   "cell_type": "code",
   "execution_count": 177,
   "metadata": {},
   "outputs": [
    {
     "data": {
      "text/plain": [
       "[<div class=\"fixteamhome\">Home Team</div>,\n",
       " <div class=\"fixteamhome\">Cuchullains Dun Lathaí</div>]"
      ]
     },
     "execution_count": 177,
     "metadata": {},
     "output_type": "execute_result"
    }
   ],
   "source": [
    "soup.find_all('div', class_='fixteamhome')"
   ]
  },
  {
   "cell_type": "code",
   "execution_count": 178,
   "metadata": {},
   "outputs": [
    {
     "data": {
      "text/plain": [
       "[<div class=\"fixteamaway\">Away Team</div>,\n",
       " <div class=\"fixteamaway\">O`Donovan Rossa</div>]"
      ]
     },
     "execution_count": 178,
     "metadata": {},
     "output_type": "execute_result"
    }
   ],
   "source": [
    "soup.find_all('div', class_='fixteamaway')"
   ]
  },
  {
   "cell_type": "code",
   "execution_count": 179,
   "metadata": {},
   "outputs": [
    {
     "data": {
      "text/plain": [
       "[<div class=\"fixscorehome\"> </div>, <div class=\"fixscorehome\">3-23</div>]"
      ]
     },
     "execution_count": 179,
     "metadata": {},
     "output_type": "execute_result"
    }
   ],
   "source": [
    "soup.find_all('div', class_='fixscorehome')"
   ]
  },
  {
   "cell_type": "code",
   "execution_count": 180,
   "metadata": {},
   "outputs": [
    {
     "data": {
      "text/plain": [
       "[<div class=\"fixscoreaway\"> </div>, <div class=\"fixscoreaway\">1-14</div>]"
      ]
     },
     "execution_count": 180,
     "metadata": {},
     "output_type": "execute_result"
    }
   ],
   "source": [
    "soup.find_all('div', class_='fixscoreaway')"
   ]
  },
  {
   "cell_type": "code",
   "execution_count": 181,
   "metadata": {},
   "outputs": [
    {
     "data": {
      "text/plain": [
       "[<div class=\"fixvenue\">Venue</div>, <div class=\"fixvenue\">Corrigan Park</div>]"
      ]
     },
     "execution_count": 181,
     "metadata": {},
     "output_type": "execute_result"
    }
   ],
   "source": [
    "soup.find_all('div', class_='fixvenue')"
   ]
  },
  {
   "cell_type": "code",
   "execution_count": 182,
   "metadata": {},
   "outputs": [
    {
     "data": {
      "text/plain": [
       "[<div class=\"fixcompname\"><a href=\"/fixtures/?compID=166013&amp;leagueTable=y\">Bathshack Senior Hurling Championship</a></div>]"
      ]
     },
     "execution_count": 182,
     "metadata": {},
     "output_type": "execute_result"
    }
   ],
   "source": [
    "soup.find_all('div', class_='fixcompname')"
   ]
  },
  {
   "cell_type": "code",
   "execution_count": 183,
   "metadata": {},
   "outputs": [
    {
     "name": "stdout",
     "output_type": "stream",
     "text": [
      "['Date', 'Sun 10 Oct 2021']\n",
      "['Sun 10 Oct 2021']\n"
     ]
    }
   ],
   "source": [
    "dates =[] # create empty list called dates\n",
    "for gamedates in soup.find_all('div', class_='fixdate'):\n",
    "    dates.append(gamedates.text) # loop through each of the date elements & add each text part into our list 'dates'\n",
    "print(dates)\n",
    "remove_first_element = dates.pop(0)\n",
    "print(dates)\n"
   ]
  },
  {
   "cell_type": "code",
   "execution_count": 184,
   "metadata": {},
   "outputs": [
    {
     "name": "stdout",
     "output_type": "stream",
     "text": [
      "['Home Team', 'Cuchullains Dun Lathaí']\n",
      "['Cuchullains Dun Lathaí']\n"
     ]
    }
   ],
   "source": [
    "HT=[]\n",
    "for home_teams in soup.find_all('div', class_='fixteamhome'):\n",
    "    HT.append(home_teams.text)\n",
    "print(HT)\n",
    "remove_first_element = HT.pop(0)\n",
    "print(HT)\n"
   ]
  },
  {
   "cell_type": "code",
   "execution_count": 185,
   "metadata": {},
   "outputs": [
    {
     "name": "stdout",
     "output_type": "stream",
     "text": [
      "['\\xa0', '3-23']\n",
      "['3-23']\n"
     ]
    }
   ],
   "source": [
    "HS=[]\n",
    "for home_score in soup.find_all('div', class_='fixscorehome'):\n",
    "    HS.append(home_score.text)\n",
    "print(HS)\n",
    "remove_first_element = HS.pop(0)\n",
    "print(HS)"
   ]
  },
  {
   "cell_type": "code",
   "execution_count": 186,
   "metadata": {},
   "outputs": [
    {
     "name": "stdout",
     "output_type": "stream",
     "text": [
      "['Away Team', 'O`Donovan Rossa']\n",
      "['O`Donovan Rossa']\n"
     ]
    }
   ],
   "source": [
    "AT=[]\n",
    "for away_teams in soup.find_all('div', class_='fixteamaway'):\n",
    "    AT.append(away_teams.text)\n",
    "print(AT)\n",
    "remove_first_element = AT.pop(0)\n",
    "print(AT)"
   ]
  },
  {
   "cell_type": "code",
   "execution_count": 187,
   "metadata": {},
   "outputs": [
    {
     "name": "stdout",
     "output_type": "stream",
     "text": [
      "['\\xa0', '1-14']\n",
      "['1-14']\n"
     ]
    }
   ],
   "source": [
    "AS=[]\n",
    "for away_score in soup.find_all('div', class_='fixscoreaway'):\n",
    "    AS.append(away_score.text)\n",
    "print(AS)\n",
    "remove_first_element = AS.pop(0)\n",
    "print(AS)"
   ]
  },
  {
   "cell_type": "code",
   "execution_count": 192,
   "metadata": {},
   "outputs": [
    {
     "name": "stdout",
     "output_type": "stream",
     "text": [
      "['Venue', 'Corrigan Park']\n",
      "['Corrigan Park']\n"
     ]
    }
   ],
   "source": [
    "Venues=[]\n",
    "for vens in soup.find_all('div', class_='fixvenue'):\n",
    "    Venues.append(vens.text)\n",
    "print(Venues)\n",
    "remove_first_element = Venues.pop(0)\n",
    "print(Venues)"
   ]
  },
  {
   "cell_type": "code",
   "execution_count": 202,
   "metadata": {},
   "outputs": [
    {
     "name": "stdout",
     "output_type": "stream",
     "text": [
      "['Bathshack Senior Hurling Championship']\n"
     ]
    }
   ],
   "source": [
    "stage=[]\n",
    "for comp_stage in soup.find_all('div', class_='fixcompname'):\n",
    "    stage.append(comp_stage.text)\n",
    "print (stage)\n",
    "\n"
   ]
  },
  {
   "cell_type": "code",
   "execution_count": 204,
   "metadata": {},
   "outputs": [
    {
     "data": {
      "text/html": [
       "<div>\n",
       "<style scoped>\n",
       "    .dataframe tbody tr th:only-of-type {\n",
       "        vertical-align: middle;\n",
       "    }\n",
       "\n",
       "    .dataframe tbody tr th {\n",
       "        vertical-align: top;\n",
       "    }\n",
       "\n",
       "    .dataframe thead th {\n",
       "        text-align: right;\n",
       "    }\n",
       "</style>\n",
       "<table border=\"1\" class=\"dataframe\">\n",
       "  <thead>\n",
       "    <tr style=\"text-align: right;\">\n",
       "      <th></th>\n",
       "      <th>Date</th>\n",
       "      <th>Home Team</th>\n",
       "      <th>Home Score</th>\n",
       "      <th>Away Team</th>\n",
       "      <th>Away Score</th>\n",
       "      <th>Venue</th>\n",
       "      <th>Stage</th>\n",
       "    </tr>\n",
       "  </thead>\n",
       "  <tbody>\n",
       "    <tr>\n",
       "      <th>0</th>\n",
       "      <td>Sun 10 Oct 2021</td>\n",
       "      <td>Cuchullains Dun Lathaí</td>\n",
       "      <td>3-23</td>\n",
       "      <td>O`Donovan Rossa</td>\n",
       "      <td>1-14</td>\n",
       "      <td>Corrigan Park</td>\n",
       "      <td>Bathshack Senior Hurling Championship</td>\n",
       "    </tr>\n",
       "  </tbody>\n",
       "</table>\n",
       "</div>"
      ],
      "text/plain": [
       "              Date               Home Team Home Score        Away Team  \\\n",
       "0  Sun 10 Oct 2021  Cuchullains Dun Lathaí       3-23  O`Donovan Rossa   \n",
       "\n",
       "  Away Score          Venue                                  Stage  \n",
       "0       1-14  Corrigan Park  Bathshack Senior Hurling Championship  "
      ]
     },
     "metadata": {},
     "output_type": "display_data"
    }
   ],
   "source": [
    "data = [dates, HT, HS,AT,AS,Venues, stage]\n",
    "antrim_shc_df = pd.DataFrame(data)\n",
    "antrim_shc_df = antrim_shc_df.transpose()\n",
    "antrim_shc_df.columns = ['Date', 'Home Team', 'Home Score','Away Team','Away Score','Venue', 'Stage'] #Rename Columns\n",
    "display(antrim_shc_df)\n",
    "\n"
   ]
  },
  {
   "cell_type": "code",
   "execution_count": 167,
   "metadata": {},
   "outputs": [
    {
     "data": {
      "text/html": [
       "<div>\n",
       "<style scoped>\n",
       "    .dataframe tbody tr th:only-of-type {\n",
       "        vertical-align: middle;\n",
       "    }\n",
       "\n",
       "    .dataframe tbody tr th {\n",
       "        vertical-align: top;\n",
       "    }\n",
       "\n",
       "    .dataframe thead th {\n",
       "        text-align: right;\n",
       "    }\n",
       "</style>\n",
       "<table border=\"1\" class=\"dataframe\">\n",
       "  <thead>\n",
       "    <tr style=\"text-align: right;\">\n",
       "      <th></th>\n",
       "      <th>Date</th>\n",
       "      <th>Home Team</th>\n",
       "      <th>Home Score</th>\n",
       "      <th>Away Team</th>\n",
       "      <th>Away Score</th>\n",
       "      <th>Venue</th>\n",
       "      <th>Stage</th>\n",
       "    </tr>\n",
       "  </thead>\n",
       "  <tbody>\n",
       "    <tr>\n",
       "      <th>0</th>\n",
       "      <td>Sun 10 Oct 2021</td>\n",
       "      <td>Cuchullains Dun Lathaí</td>\n",
       "      <td>3-23</td>\n",
       "      <td>O`Donovan Rossa</td>\n",
       "      <td>1-14</td>\n",
       "      <td>Corrigan Park</td>\n",
       "      <td>Bathshack Senior Hurling Championship</td>\n",
       "    </tr>\n",
       "  </tbody>\n",
       "</table>\n",
       "</div>"
      ],
      "text/plain": [
       "              Date               Home Team Home Score        Away Team  \\\n",
       "0  Sun 10 Oct 2021  Cuchullains Dun Lathaí       3-23  O`Donovan Rossa   \n",
       "\n",
       "  Away Score          Venue                                  Stage  \n",
       "0       1-14  Corrigan Park  Bathshack Senior Hurling Championship  "
      ]
     },
     "metadata": {},
     "output_type": "display_data"
    }
   ],
   "source": []
  },
  {
   "cell_type": "code",
   "execution_count": null,
   "metadata": {},
   "outputs": [],
   "source": []
  }
 ],
 "metadata": {
  "kernelspec": {
   "display_name": "Python 3",
   "language": "python",
   "name": "python3"
  },
  "language_info": {
   "codemirror_mode": {
    "name": "ipython",
    "version": 3
   },
   "file_extension": ".py",
   "mimetype": "text/x-python",
   "name": "python",
   "nbconvert_exporter": "python",
   "pygments_lexer": "ipython3",
   "version": "3.7.3"
  }
 },
 "nbformat": 4,
 "nbformat_minor": 2
}
